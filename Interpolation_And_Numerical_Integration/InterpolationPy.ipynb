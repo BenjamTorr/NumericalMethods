{
 "cells": [
  {
   "cell_type": "markdown",
   "metadata": {},
   "source": [
    "# Lagrange's, Newton's Interpolation and a Cubic Spline\n",
    "In this notebook we are trying to \"guess\" a function that pass through some given points\n",
    "$(x_i, f(x_i))$ $i = 1, ..., m$\n",
    "\n",
    "So, we will approximate this by two methods, first we will use Newton's interpolation, it could be donde with lagrange's interpolation aswell.\n",
    "\n",
    "## Newton's Interpolation.\n",
    "\n",
    "We will create a polynomial function $p(x)$ such that it satisfies $p(x_i) = f(x_i)$.\n",
    "\n",
    "We will continue with an inductive method, we will show that interpolation polynomial is given by : $$p_n(x) = p_{n-1} + C\\Pi_{i=0}^{n-1}(x-x_i)$$ where $C = \\frac{y_{n} - p_{n-1}(x_{n})}{\\Pi_{i=0}^{n-1}({x_{n}-x_i})}$\n",
    "\n",
    "- for $m = 1$\n",
    "    in this case we have two points, $(x_0,f(x_0) = y_0),(x_1,f(x_1)=y_1)$ in this case the solutions is pretty obvious, we just choose the line that satisfies the given conditions. $p_1(x) = y_0 + \\frac{y_1-y_0}{x_1-x_0}(x-x_0) $ \n",
    "- Now is our inductive step, we suppose that is true for $m = n$ $p_n(x) = p_{n-1} + C\\Pi_{i=0}^{n-1}(x-x_i)$ where $C = \\frac{y_{n} - p_{n-1}(x_{n})}{\\Pi_{i=0}^{n-1}({x_{n}-x_i})}$  in our first case we choose $p_0(x)=y_0$ and we will have the same expression\n",
    "- Now we prove for $m = n +1$ we will show that $p_{n+1}$ interpolates $x_i$ i,e $p_{n+1}(x_{n+1})=y_{n+1}$ we can see that when $x = x_{n+1}$ we have $p_{n+1}(x_{n+1}) = p_{n}(x_{n+1}) = \\frac{y_{n+1}-p_n(x_{n+1}}{\\Pi_{i=0}^{n}(x_{n+1}-x_i}\\Pi_{i=0}^{n}(x_{n+1}-x_{i})  = p_{n}(x_{n+1})+y_{n+1}-p_{m}(x_{n+1})=y_{n+1} $\n",
    "it finishes the proof.\n",
    "\n",
    "Our next goal is to implement Newton's Interpolation."
   ]
  },
  {
   "cell_type": "code",
   "execution_count": 2,
   "metadata": {},
   "outputs": [],
   "source": [
    "from matplotlib import pyplot as plt\n",
    "import numpy as np"
   ]
  },
  {
   "cell_type": "markdown",
   "metadata": {},
   "source": [
    "We will load the data into a mx2 matrix, we will find our vectors $X,Y$, we will construct our polynomial with a technique called divided differences, for this we will use two auxiliar vectors $u,v$"
   ]
  },
  {
   "cell_type": "code",
   "execution_count": 3,
   "metadata": {},
   "outputs": [],
   "source": [
    "XY = np.loadtxt(\"datos.txt\")\n",
    "Y = XY[:,1]\n",
    "X = XY[:,0]\n",
    "u = np.array(Y)\n",
    "v = np.zeros(len(Y))\n",
    "coeff = np.zeros(len(Y))\n",
    "coeff[0] = Y[0]\n",
    "size = len(Y)\n",
    "for j in range(1, size):\n",
    "    for i in range(j, size):\n",
    "        v[i] = u[i] - u[i-1]\n",
    "        v[i] = v[i] / (X[i] - X[i - j])\n",
    "    u = np.copy(v)   \n",
    "    coeff[j] = v[j]"
   ]
  },
  {
   "cell_type": "markdown",
   "metadata": {},
   "source": [
    "In the cell above, we calculated the diagonal of the divided differences table, we will use that to evaluate our polynomial with a function."
   ]
  },
  {
   "cell_type": "code",
   "execution_count": 4,
   "metadata": {},
   "outputs": [],
   "source": [
    "def eval(coef, X, x):\n",
    "    sz = len(coef)\n",
    "    y = 1 * coef[0]\n",
    "    for i in range(1,sz):\n",
    "        z = 1 * coef[i]\n",
    "        for j in range(0, i):\n",
    "            z = np.multiply(z, (x-X[j]))\n",
    "        y = y + z\n",
    "    return y\n",
    "    "
   ]
  },
  {
   "cell_type": "code",
   "execution_count": 5,
   "metadata": {},
   "outputs": [
    {
     "data": {
      "text/plain": [
       "[<matplotlib.lines.Line2D at 0x7fac77e73d90>]"
      ]
     },
     "execution_count": 5,
     "metadata": {},
     "output_type": "execute_result"
    },
    {
     "data": {
      "image/png": "[encoded data removed]",
      "text/plain": [
       "<Figure size 432x288 with 1 Axes>"
      ]
     },
     "metadata": {
      "needs_background": "light"
     },
     "output_type": "display_data"
    }
   ],
   "source": [
    "x = np.arange(0.9,13.3, step=0.1)\n",
    "graph = eval(coeff, X, x)\n",
    "plt.plot(x,graph)\n",
    "plt.plot(X,Y)"
   ]
  },
  {
   "cell_type": "markdown",
   "metadata": {},
   "source": [
    "now in the cell above we have our interpolation polynomial, let's compare with straigth line.\n"
   ]
  },
  {
   "cell_type": "markdown",
   "metadata": {},
   "source": [
    "## Cubic spline\n",
    "Now our next goal is to solve the same problem but with a different technique, the key idea of a spline is to think of it as divided by parts, if we can figure out how to mix this different parts in such way that we have some important properties like continuity and differentiability.\n",
    "We can do this in a broad sense just interpolating every pair of points with a polynomial and try to adjust some parameters such that the resulting function is continious and differentiable.\n",
    "We will not go deep into the theory of how to construct the spline because is it not our main goal in this notebook. So by imposing some conditions and solving the given constraints we can find that our spline is:\n",
    "$$S_i(x) = \\frac{z_{i+1}}{6}\\frac{(x-x_{i})^3}{x_{i+1}-x_i} + (\\frac{f_{i+1}}{x_{i+1}-x{i}}-\\frac{z_{i+1}(x_{i+1}-x_i)}{6})(x_{i+1}-x) + \\frac{z_{i}(x_{i+1}-x)^3}{x_{i+1}-x_{i}}+(\\frac{f_i}{x_{i+1}-x_{i}}-\\frac{z_i(x_{i+1}-x_{i}}{y})(x_{i+1}-x)$$ where $z_i$ are constants that we need determine by imposing the called \"natural codition of the spline\". The next recurrence can be derived $h_{i-1}z_{i-1}+u_{i}z_{i}+h_{i}z_{i+1}$ where $h_{i} = x_{i+1}-x_{i}$ , $u_{i}=2(h_{i-1}+h_{i})$, $v_{i}=6(b_{i}-b_{i-1})$ and finally $b_{i}=\\frac{f_{i+1}-f_{i}}{x_{i+1}-x_{i}}$\n",
    "this system can be solved with a gaussian elimination method.\n",
    "$u_{i} \\rightarrow u_{i}-\\frac{h_{i-1}^2}{u_{i-1}}$, $v_{i} \\rightarrow v_{i}-\\frac{h_{i-1}v_{i-1}}{u_{i-1}}$ $i = 2,3,...,n-1$ and $z_{n-1} \\rightarrow \\frac{v_{n-1}}{u_{n-1}}$ and $z_{i} \\rightarrow \\frac{v_{i}-h_{i}z_{i+1}}{u_{i}} $ $i = n-2, n-3, ..., 1$\n",
    "lets construct this."
   ]
  },
  {
   "cell_type": "code",
   "execution_count": 6,
   "metadata": {},
   "outputs": [],
   "source": [
    "def cubSpline(XY):\n",
    "    X = XY[:, 0]\n",
    "    Y = XY[:, 1]\n",
    "    sz = len(Y)\n",
    "    b = np.zeros(sz)\n",
    "    h = np.zeros(sz)\n",
    "    u = np.zeros(sz)\n",
    "    v = np.zeros(sz)\n",
    "    z = np.zeros(sz)\n",
    "    spline = np.zeros((sz - 1, 4))\n",
    "    print(h)\n",
    "    for i in range(0, sz - 1):\n",
    "        h[i] = (X[i + 1] - X[i])\n",
    "        b[i] = (Y[i + 1] - Y[i]) / (X[i + 1] - X[i])   \n",
    "    u[1] = 2*(h[0] + h[1])\n",
    "    v[1] = 6*(b[1] - b[0])\n",
    "    for i in range(2, sz - 1):\n",
    "        u[i] = 2 * (h[i - 1] + h[i]) - (h[i - 1] * h[i - 1]) / u[i - 1]\n",
    "        v[i] = 6 * (b[i] - b[i - 1]) - (h[i - 1]*v[i - 1]) / u[i - 1]\n",
    "    z[sz - 1] = 0\n",
    "    for i in range(sz - 2, 0, -1):\n",
    "        z[i] = (v[i] - h[i]*z[i+1]) / u[i]\n",
    "    for i in range(0, sz - 1):\n",
    "        dx = X[i + 1] - X[i]\n",
    "        spline[i, 0] = z[i + 1] / (6 * dx)\n",
    "        spline[i, 1] = (Y[i + 1] / dx) - (z[i + 1] * dx) / 6\n",
    "        spline[i, 2] = z[i] / (6 * dx)\n",
    "        spline[i, 3] = Y[i] / dx - (z[i] * dx) / 6\n",
    "    return spline\n"
   ]
  },
  {
   "cell_type": "markdown",
   "metadata": {},
   "source": [
    "The next step is to create a function that can evaluate our spline.\n"
   ]
  },
  {
   "cell_type": "code",
   "execution_count": 7,
   "metadata": {},
   "outputs": [],
   "source": [
    "def EvalSpline(Spline, k, X, x):\n",
    "    f = Spline[k, 0] * np.power((x - X[k]), 3)\n",
    "    f = f + Spline[k, 1] * (x - X[k])\n",
    "    f = f + Spline[k, 2] * np.power((X[k + 1] - x), 3)\n",
    "    f = f + Spline[k, 3] * np.power((X[k + 1] - x), 1)\n",
    "    return f"
   ]
  },
  {
   "cell_type": "markdown",
   "metadata": {},
   "source": [
    "Now is time to plot our results"
   ]
  },
  {
   "cell_type": "markdown",
   "metadata": {},
   "source": [
    "we can see that with this method we have way better results than solving it with newtons interpolation, but now this points are not just points they have a shape of a duck,  lets add the inferior part."
   ]
  },
  {
   "cell_type": "code",
   "execution_count": 17,
   "metadata": {},
   "outputs": [
    {
     "name": "stdout",
     "output_type": "stream",
     "text": [
      "[0. 0. 0. 0. 0. 0. 0. 0. 0. 0. 0. 0. 0. 0. 0. 0. 0. 0. 0. 0. 0.]\n"
     ]
    },
    {
     "data": {
      "image/png": "[encoded data removed]",
      "text/plain": [
       "<Figure size 432x288 with 1 Axes>"
      ]
     },
     "metadata": {
      "needs_background": "light"
     },
     "output_type": "display_data"
    }
   ],
   "source": [
    "XY2 = np.loadtxt(\"inf.txt\")\n",
    "X2 = XY2[:,0]\n",
    "Y2 = XY2[:,1]\n",
    "spline2 = cubSpline(XY2)\n",
    "for i in range(0, size - 1):\n",
    "    x = np.arange(X[i], X[i + 1], step=0.01)\n",
    "    graph = EvalSpline(spline,i,X,x)\n",
    "    graph2 = EvalSpline(spline2, i, X, x)\n",
    "    plt.plot(x,graph)\n",
    "    plt.plot(x,graph2)"
   ]
  },
  {
   "cell_type": "markdown",
   "metadata": {},
   "source": [
    "This is our final result :), we could have better results if we choose more carefully the points"
   ]
  }
 ],
 "metadata": {
  "kernelspec": {
   "display_name": "Python 3",
   "language": "python",
   "name": "python3"
  },
  "language_info": {
   "codemirror_mode": {
    "name": "ipython",
    "version": 3
   },
   "file_extension": ".py",
   "mimetype": "text/x-python",
   "name": "python",
   "nbconvert_exporter": "python",
   "pygments_lexer": "ipython3",
   "version": "3.7.8"
  }
 },
 "nbformat": 4,
 "nbformat_minor": 4
}
